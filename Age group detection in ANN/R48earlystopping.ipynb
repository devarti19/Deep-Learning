{
 "cells": [
  {
   "cell_type": "markdown",
   "metadata": {},
   "source": [
    "#### Implementing early stopping"
   ]
  },
  {
   "cell_type": "code",
   "execution_count": 1,
   "metadata": {},
   "outputs": [
    {
     "name": "stderr",
     "output_type": "stream",
     "text": [
      "Using TensorFlow backend.\n"
     ]
    }
   ],
   "source": [
    "import os\n",
    "import re\n",
    "import numpy as np\n",
    "import pandas as pd\n",
    "from keras.models import Sequential\n",
    "from keras.layers import Dense, Flatten, InputLayer\n",
    "from sklearn.preprocessing import LabelEncoder\n",
    "from tensorflow.python.keras import utils\n",
    "import keras\n",
    "import imageio \n",
    "from PIL import Image "
   ]
  },
  {
   "cell_type": "code",
   "execution_count": 2,
   "metadata": {
    "collapsed": true
   },
   "outputs": [],
   "source": [
    "# Reading the data\n",
    "train = pd.read_csv('age_detection_train/train.csv')\n",
    "\n",
    "# Image resizing of test data into single numpy array\n",
    "temp = []\n",
    "for img_name in train.ID:\n",
    "    img_path = os.path.join('age_detection_train/Train', img_name)\n",
    "    img = imageio.imread(img_path)\n",
    "    img = np.array(Image.fromarray(img).resize((32, 32))).astype('float32')    \n",
    "    temp.append(img)\n",
    "\n",
    "train_x = np.stack(temp)\n",
    "\n",
    "# Normalizing the images\n",
    "train_x = train_x / 255.\n",
    "\n",
    "# Encoding the categorical variable to numeric\n",
    "lb = LabelEncoder()\n",
    "train_y = lb.fit_transform(train.Class)\n",
    "train_y = utils.np_utils.to_categorical(train_y)"
   ]
  },
  {
   "cell_type": "code",
   "execution_count": 3,
   "metadata": {
    "collapsed": true
   },
   "outputs": [],
   "source": [
    "# Specifying all the parameters we will be using in our network\n",
    "input_num_units = (32, 32, 3)\n",
    "hidden_num_units = 500\n",
    "output_num_units = 3\n",
    "\n",
    "epochs = 100\n",
    "batch_size = 512"
   ]
  },
  {
   "cell_type": "code",
   "execution_count": 4,
   "metadata": {
    "scrolled": true
   },
   "outputs": [
    {
     "name": "stdout",
     "output_type": "stream",
     "text": [
      "Train on 15924 samples, validate on 3982 samples\n",
      "Epoch 1/100\n",
      "15924/15924 [==============================] - 52s 3ms/step - loss: 0.9358 - acc: 0.5767 - val_loss: 0.8415 - val_acc: 0.5939\n",
      "Epoch 2/100\n",
      "15924/15924 [==============================] - 64s 4ms/step - loss: 0.8364 - acc: 0.6063 - val_loss: 0.8105 - val_acc: 0.6246\n",
      "Epoch 3/100\n",
      "15924/15924 [==============================] - 48s 3ms/step - loss: 0.8170 - acc: 0.6191 - val_loss: 0.8027 - val_acc: 0.6421\n",
      "Epoch 4/100\n",
      "15924/15924 [==============================] - 66s 4ms/step - loss: 0.8002 - acc: 0.6317 - val_loss: 0.7873 - val_acc: 0.6602\n",
      "Epoch 5/100\n",
      "15924/15924 [==============================] - 48s 3ms/step - loss: 0.7903 - acc: 0.6387 - val_loss: 0.7704 - val_acc: 0.6524\n",
      "Epoch 6/100\n",
      "15924/15924 [==============================] - 52s 3ms/step - loss: 0.7725 - acc: 0.6534 - val_loss: 0.7818 - val_acc: 0.6552\n",
      "Epoch 7/100\n",
      "15924/15924 [==============================] - 48s 3ms/step - loss: 0.7617 - acc: 0.6596 - val_loss: 0.7442 - val_acc: 0.6733\n",
      "Epoch 8/100\n",
      "15924/15924 [==============================] - 50s 3ms/step - loss: 0.7455 - acc: 0.6642 - val_loss: 0.7509 - val_acc: 0.6642\n",
      "Epoch 9/100\n",
      "15924/15924 [==============================] - 68s 4ms/step - loss: 0.7432 - acc: 0.6697 - val_loss: 0.7304 - val_acc: 0.6808\n",
      "Epoch 10/100\n",
      "15924/15924 [==============================] - 50s 3ms/step - loss: 0.7250 - acc: 0.6828 - val_loss: 0.7419 - val_acc: 0.6705\n",
      "Epoch 11/100\n",
      "15924/15924 [==============================] - 55s 3ms/step - loss: 0.7227 - acc: 0.6808 - val_loss: 0.7483 - val_acc: 0.6622\n",
      "Epoch 12/100\n",
      "15924/15924 [==============================] - 59s 4ms/step - loss: 0.7130 - acc: 0.6831 - val_loss: 0.7356 - val_acc: 0.6753\n",
      "Epoch 13/100\n",
      "15924/15924 [==============================] - 47s 3ms/step - loss: 0.7053 - acc: 0.6877 - val_loss: 0.7195 - val_acc: 0.6808\n",
      "Epoch 14/100\n",
      "15924/15924 [==============================] - 51s 3ms/step - loss: 0.7032 - acc: 0.6881 - val_loss: 0.7234 - val_acc: 0.6808\n",
      "Epoch 15/100\n",
      "15924/15924 [==============================] - 50s 3ms/step - loss: 0.6941 - acc: 0.6952 - val_loss: 0.7222 - val_acc: 0.6878\n",
      "Epoch 16/100\n",
      "15924/15924 [==============================] - 50s 3ms/step - loss: 0.6878 - acc: 0.6994 - val_loss: 0.7244 - val_acc: 0.6783\n",
      "Epoch 17/100\n",
      "15924/15924 [==============================] - 54s 3ms/step - loss: 0.6786 - acc: 0.7044 - val_loss: 0.7120 - val_acc: 0.6931\n",
      "Epoch 18/100\n",
      "15924/15924 [==============================] - 55s 3ms/step - loss: 0.6762 - acc: 0.7051 - val_loss: 0.7120 - val_acc: 0.6926\n",
      "Epoch 19/100\n",
      "15924/15924 [==============================] - 49s 3ms/step - loss: 0.6655 - acc: 0.7087 - val_loss: 0.7303 - val_acc: 0.6883\n",
      "Epoch 20/100\n",
      "15924/15924 [==============================] - 72s 5ms/step - loss: 0.6663 - acc: 0.7088 - val_loss: 0.7391 - val_acc: 0.6770\n",
      "Epoch 21/100\n",
      "15924/15924 [==============================] - 50s 3ms/step - loss: 0.6561 - acc: 0.7126 - val_loss: 0.7880 - val_acc: 0.6419\n"
     ]
    }
   ],
   "source": [
    "model = Sequential([\n",
    "          InputLayer(input_shape=input_num_units),\n",
    "          Flatten(),\n",
    "          Dense(units=hidden_num_units, activation='relu'),\n",
    "          Dense(units=output_num_units, activation='softmax'),\n",
    "        ])\n",
    "\n",
    "# Defining parameters like optmizer, loss function and evaluating metric\n",
    "model.compile(loss='categorical_crossentropy', # \n",
    "        optimizer=keras.optimizers.Adam(), # Learning rate and momentum can be passed inside optimizer\n",
    "        metrics=['accuracy'])\n",
    "\n",
    "# Defining early stopping callback.\n",
    "# After epoch 50, training can be stopped if not improved in 'val_loss' is seen\n",
    "\n",
    "cb_early_stop = keras.callbacks.EarlyStopping(monitor='val_loss', patience=8, min_delta=0.02) \n",
    "cb = keras.callbacks.TensorBoard(log_dir='early_stop', write_graph=False) \n",
    "\n",
    "history = model.fit(train_x, train_y, epochs=epochs, validation_split=0.2, callbacks=[cb, cb_early_stop])"
   ]
  },
  {
   "cell_type": "markdown",
   "metadata": {},
   "source": [
    "#### Training stopped on epoch 21 due to `val_loss` not improving from min_delta = 0.02"
   ]
  }
 ],
 "metadata": {
  "kernelspec": {
   "display_name": "Python 3",
   "language": "python",
   "name": "python3"
  },
  "language_info": {
   "codemirror_mode": {
    "name": "ipython",
    "version": 3
   },
   "file_extension": ".py",
   "mimetype": "text/x-python",
   "name": "python",
   "nbconvert_exporter": "python",
   "pygments_lexer": "ipython3",
   "version": "3.6.1"
  }
 },
 "nbformat": 4,
 "nbformat_minor": 2
}
