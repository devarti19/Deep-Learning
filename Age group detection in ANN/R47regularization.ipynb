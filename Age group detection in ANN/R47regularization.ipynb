{
 "cells": [
  {
   "cell_type": "markdown",
   "metadata": {},
   "source": [
    "#### Implementing regularization "
   ]
  },
  {
   "cell_type": "code",
   "execution_count": 1,
   "metadata": {},
   "outputs": [
    {
     "name": "stderr",
     "output_type": "stream",
     "text": [
      "Using TensorFlow backend.\n"
     ]
    }
   ],
   "source": [
    "import os\n",
    "import re\n",
    "import numpy as np\n",
    "import pandas as pd\n",
    "from keras.models import Sequential\n",
    "from keras.layers import Dense, Flatten, InputLayer\n",
    "from sklearn.preprocessing import LabelEncoder\n",
    "from tensorflow.python.keras import utils\n",
    "import keras\n",
    "import imageio \n",
    "from PIL import Image "
   ]
  },
  {
   "cell_type": "code",
   "execution_count": 2,
   "metadata": {
    "collapsed": true
   },
   "outputs": [],
   "source": [
    "# Reading the data\n",
    "train = pd.read_csv('age_detection_train/train.csv')\n",
    "\n",
    "# Image resizing of test data into single numpy array\n",
    "temp = []\n",
    "for img_name in train.ID:\n",
    "    img_path = os.path.join('age_detection_train/Train', img_name)\n",
    "    img = imageio.imread(img_path)\n",
    "    img = np.array(Image.fromarray(img).resize((32, 32))).astype('float32')    \n",
    "    temp.append(img)\n",
    "\n",
    "train_x = np.stack(temp)\n",
    "\n",
    "# Normalizing the images\n",
    "train_x = train_x / 255.\n",
    "\n",
    "# Encoding the categorical variable to numeric\n",
    "lb = LabelEncoder()\n",
    "train_y = lb.fit_transform(train.Class)\n",
    "train_y = utils.np_utils.to_categorical(train_y)"
   ]
  },
  {
   "cell_type": "code",
   "execution_count": 5,
   "metadata": {
    "collapsed": true
   },
   "outputs": [],
   "source": [
    "# Specifying all the parameters we will be using in our network\n",
    "input_num_units = (32, 32, 3)\n",
    "hidden_num_units = 500\n",
    "output_num_units = 3\n",
    "\n",
    "epochs = 21\n",
    "batch_size = 512"
   ]
  },
  {
   "cell_type": "code",
   "execution_count": 6,
   "metadata": {
    "collapsed": true
   },
   "outputs": [],
   "source": [
    "def regularization(list_of_regs, reg_names):\n",
    "    for reg_init in range(len(list_of_regs)):        \n",
    "        # Writing structure of model    \n",
    "        model = Sequential([\n",
    "          InputLayer(input_shape=input_num_units),\n",
    "          Flatten(),\n",
    "          Dense(units=hidden_num_units, kernel_regularizer=list_of_regs[reg_init], activation='relu'),\n",
    "          Dense(units=output_num_units, activation='softmax'),\n",
    "        ])\n",
    "        # Defining parameters like optmizer, loss function and evaluating metric\n",
    "        model.compile(loss='categorical_crossentropy', # \n",
    "                      optimizer=keras.optimizers.Adam(), # Learning rate and momentum can be passed inside optimizer\n",
    "                      metrics=['accuracy'])\n",
    "\n",
    "        # Traning the model and writing log file for TensorBoard\n",
    "        \n",
    "        logdir = r'regularization\\\\' + reg_names[reg_init] # Each log file needs to be written in a distinct directory. (Mandatory)        \n",
    "\n",
    "        # To store tensorboard graph logs\n",
    "        cb = keras.callbacks.TensorBoard(log_dir=logdir, write_graph=False) \n",
    "        \n",
    "        print('Model building using ' + reg_names[reg_init] + ' Regularization')\n",
    "        history = model.fit(train_x, train_y, epochs=epochs, \n",
    "                           validation_split=0.2,\n",
    "                           callbacks=[cb])\n",
    "        print('Model built successfully.')\n",
    "        print('')"
   ]
  },
  {
   "cell_type": "code",
   "execution_count": 7,
   "metadata": {
    "scrolled": true
   },
   "outputs": [
    {
     "name": "stdout",
     "output_type": "stream",
     "text": [
      "Model building using Ridge.L2 Regularization\n",
      "Train on 15924 samples, validate on 3982 samples\n",
      "Epoch 1/21\n",
      "15924/15924 [==============================] - 58s 4ms/step - loss: 2.0490 - acc: 0.5653 - val_loss: 0.9921 - val_acc: 0.6002\n",
      "Epoch 2/21\n",
      "15924/15924 [==============================] - 59s 4ms/step - loss: 0.9313 - acc: 0.5857 - val_loss: 0.8806 - val_acc: 0.6087\n",
      "Epoch 3/21\n",
      "15924/15924 [==============================] - 52s 3ms/step - loss: 0.8994 - acc: 0.5935 - val_loss: 0.8688 - val_acc: 0.6195\n",
      "Epoch 4/21\n",
      "15924/15924 [==============================] - 59s 4ms/step - loss: 0.8897 - acc: 0.6031 - val_loss: 0.8850 - val_acc: 0.6205\n",
      "Epoch 5/21\n",
      "15924/15924 [==============================] - 61s 4ms/step - loss: 0.8876 - acc: 0.6033 - val_loss: 0.8550 - val_acc: 0.6293\n",
      "Epoch 6/21\n",
      "15924/15924 [==============================] - 66s 4ms/step - loss: 0.8812 - acc: 0.6112 - val_loss: 0.8734 - val_acc: 0.6251\n",
      "Epoch 7/21\n",
      "15924/15924 [==============================] - 69s 4ms/step - loss: 0.8809 - acc: 0.6052 - val_loss: 0.8603 - val_acc: 0.6110\n",
      "Epoch 8/21\n",
      "15924/15924 [==============================] - 64s 4ms/step - loss: 0.8892 - acc: 0.6026 - val_loss: 0.8656 - val_acc: 0.6273\n",
      "Epoch 9/21\n",
      "15924/15924 [==============================] - 66s 4ms/step - loss: 0.8736 - acc: 0.6084 - val_loss: 0.8580 - val_acc: 0.6218\n",
      "Epoch 10/21\n",
      "15924/15924 [==============================] - 60s 4ms/step - loss: 0.8828 - acc: 0.6051 - val_loss: 0.8684 - val_acc: 0.6241\n",
      "Epoch 11/21\n",
      "15924/15924 [==============================] - 64s 4ms/step - loss: 0.8690 - acc: 0.6134 - val_loss: 0.8509 - val_acc: 0.6311\n",
      "Epoch 12/21\n",
      "15924/15924 [==============================] - 55s 3ms/step - loss: 0.8661 - acc: 0.6188 - val_loss: 0.8462 - val_acc: 0.6321\n",
      "Epoch 13/21\n",
      "15924/15924 [==============================] - 60s 4ms/step - loss: 0.8685 - acc: 0.6136 - val_loss: 0.9637 - val_acc: 0.5118\n",
      "Epoch 14/21\n",
      "15924/15924 [==============================] - 56s 3ms/step - loss: 0.8692 - acc: 0.6135 - val_loss: 0.8464 - val_acc: 0.6266\n",
      "Epoch 15/21\n",
      "15924/15924 [==============================] - 55s 3ms/step - loss: 0.8550 - acc: 0.6184 - val_loss: 0.8808 - val_acc: 0.5897\n",
      "Epoch 16/21\n",
      "15924/15924 [==============================] - 57s 4ms/step - loss: 0.8588 - acc: 0.6194 - val_loss: 0.8436 - val_acc: 0.6266\n",
      "Epoch 17/21\n",
      "15924/15924 [==============================] - 59s 4ms/step - loss: 0.8600 - acc: 0.6166 - val_loss: 0.8478 - val_acc: 0.6246\n",
      "Epoch 18/21\n",
      "15924/15924 [==============================] - 57s 4ms/step - loss: 0.8541 - acc: 0.6216 - val_loss: 0.8344 - val_acc: 0.6401\n",
      "Epoch 19/21\n",
      "15924/15924 [==============================] - 55s 3ms/step - loss: 0.8667 - acc: 0.6142 - val_loss: 0.8453 - val_acc: 0.6308\n",
      "Epoch 20/21\n",
      "15924/15924 [==============================] - 55s 3ms/step - loss: 0.8600 - acc: 0.6161 - val_loss: 0.8324 - val_acc: 0.6356\n",
      "Epoch 21/21\n",
      "15924/15924 [==============================] - 57s 4ms/step - loss: 0.8607 - acc: 0.6210 - val_loss: 0.8353 - val_acc: 0.6341\n",
      "Model built successfully.\n",
      "\n",
      "Model building using Lasso.L1 Regularization\n",
      "Train on 15924 samples, validate on 3982 samples\n",
      "Epoch 1/21\n",
      "15924/15924 [==============================] - 57s 4ms/step - loss: 12.9509 - acc: 0.5321 - val_loss: 2.8202 - val_acc: 0.5439\n",
      "Epoch 2/21\n",
      "15924/15924 [==============================] - 56s 3ms/step - loss: 2.7874 - acc: 0.5425 - val_loss: 2.7404 - val_acc: 0.5439\n",
      "Epoch 3/21\n",
      "15924/15924 [==============================] - 55s 3ms/step - loss: 2.7500 - acc: 0.5425 - val_loss: 2.7633 - val_acc: 0.5439\n",
      "Epoch 4/21\n",
      "15924/15924 [==============================] - 56s 4ms/step - loss: 2.7440 - acc: 0.5425 - val_loss: 2.7461 - val_acc: 0.5439\n",
      "Epoch 5/21\n",
      "15924/15924 [==============================] - 56s 4ms/step - loss: 2.7296 - acc: 0.5425 - val_loss: 2.7042 - val_acc: 0.5439\n",
      "Epoch 6/21\n",
      "15924/15924 [==============================] - 57s 4ms/step - loss: 2.7115 - acc: 0.5425 - val_loss: 2.7322 - val_acc: 0.5439\n",
      "Epoch 7/21\n",
      "15924/15924 [==============================] - 57s 4ms/step - loss: 2.7183 - acc: 0.5425 - val_loss: 2.7593 - val_acc: 0.5439\n",
      "Epoch 8/21\n",
      "15924/15924 [==============================] - 56s 4ms/step - loss: 2.7116 - acc: 0.5425 - val_loss: 2.6824 - val_acc: 0.5439\n",
      "Epoch 9/21\n",
      "15924/15924 [==============================] - 58s 4ms/step - loss: 2.7083 - acc: 0.5421 - val_loss: 2.6904 - val_acc: 0.5439\n",
      "Epoch 10/21\n",
      "15924/15924 [==============================] - 56s 4ms/step - loss: 2.7033 - acc: 0.5425 - val_loss: 2.6794 - val_acc: 0.5439\n",
      "Epoch 11/21\n",
      "15924/15924 [==============================] - 59s 4ms/step - loss: 2.6928 - acc: 0.5425 - val_loss: 2.6741 - val_acc: 0.5439\n",
      "Epoch 12/21\n",
      "15924/15924 [==============================] - 58s 4ms/step - loss: 2.6866 - acc: 0.5425 - val_loss: 2.6793 - val_acc: 0.5439\n",
      "Epoch 13/21\n",
      "15924/15924 [==============================] - 58s 4ms/step - loss: 2.6801 - acc: 0.5425 - val_loss: 2.6614 - val_acc: 0.5439\n",
      "Epoch 14/21\n",
      "15924/15924 [==============================] - 57s 4ms/step - loss: 2.6745 - acc: 0.5425 - val_loss: 2.6674 - val_acc: 0.5439\n",
      "Epoch 15/21\n",
      "15924/15924 [==============================] - 56s 4ms/step - loss: 2.6735 - acc: 0.5425 - val_loss: 2.6540 - val_acc: 0.5439\n",
      "Epoch 16/21\n",
      "15924/15924 [==============================] - 63s 4ms/step - loss: 2.6744 - acc: 0.5425 - val_loss: 2.6660 - val_acc: 0.5439\n",
      "Epoch 17/21\n",
      "15924/15924 [==============================] - 60s 4ms/step - loss: 2.6709 - acc: 0.5425 - val_loss: 2.6612 - val_acc: 0.5439\n",
      "Epoch 18/21\n",
      "15924/15924 [==============================] - 56s 4ms/step - loss: 2.6659 - acc: 0.5425 - val_loss: 2.6626 - val_acc: 0.5439\n",
      "Epoch 19/21\n",
      "15924/15924 [==============================] - 58s 4ms/step - loss: 2.6643 - acc: 0.5425 - val_loss: 2.6774 - val_acc: 0.5439\n",
      "Epoch 20/21\n",
      "15924/15924 [==============================] - 64s 4ms/step - loss: 2.6616 - acc: 0.5425 - val_loss: 2.6744 - val_acc: 0.5439\n",
      "Epoch 21/21\n",
      "15924/15924 [==============================] - 68s 4ms/step - loss: 2.6554 - acc: 0.5425 - val_loss: 2.6444 - val_acc: 0.5439\n",
      "Model built successfully.\n",
      "\n",
      "Model building using Elastic.Net.L1.L2 Regularization\n",
      "Train on 15924 samples, validate on 3982 samples\n",
      "Epoch 1/21\n",
      "15924/15924 [==============================] - 66s 4ms/step - loss: 133.9808 - acc: 0.5391 - val_loss: 19.0459 - val_acc: 0.5439\n",
      "Epoch 2/21\n",
      "15924/15924 [==============================] - 65s 4ms/step - loss: 18.7209 - acc: 0.5425 - val_loss: 18.6814 - val_acc: 0.5439\n",
      "Epoch 3/21\n",
      "15924/15924 [==============================] - 65s 4ms/step - loss: 18.6759 - acc: 0.5425 - val_loss: 18.5655 - val_acc: 0.5439\n",
      "Epoch 4/21\n",
      "15924/15924 [==============================] - 64s 4ms/step - loss: 18.6350 - acc: 0.5425 - val_loss: 18.4610 - val_acc: 0.5439\n",
      "Epoch 5/21\n",
      "15924/15924 [==============================] - 71s 4ms/step - loss: 18.5825 - acc: 0.5425 - val_loss: 18.5239 - val_acc: 0.5439\n",
      "Epoch 6/21\n",
      "15924/15924 [==============================] - 78s 5ms/step - loss: 18.5228 - acc: 0.5425 - val_loss: 18.6261 - val_acc: 0.5439\n",
      "Epoch 7/21\n",
      "15924/15924 [==============================] - 67s 4ms/step - loss: 18.3955 - acc: 0.5425 - val_loss: 18.7604 - val_acc: 0.5439\n",
      "Epoch 8/21\n",
      "15924/15924 [==============================] - 66s 4ms/step - loss: 18.3475 - acc: 0.5425 - val_loss: 18.2974 - val_acc: 0.5439\n",
      "Epoch 9/21\n",
      "15924/15924 [==============================] - 67s 4ms/step - loss: 18.4003 - acc: 0.5425 - val_loss: 18.3576 - val_acc: 0.5439\n",
      "Epoch 10/21\n",
      "15924/15924 [==============================] - 66s 4ms/step - loss: 18.3741 - acc: 0.5425 - val_loss: 18.5494 - val_acc: 0.5439\n",
      "Epoch 11/21\n",
      "15924/15924 [==============================] - 66s 4ms/step - loss: 18.2382 - acc: 0.5425 - val_loss: 18.2888 - val_acc: 0.5439\n",
      "Epoch 12/21\n",
      "15924/15924 [==============================] - 72s 5ms/step - loss: 18.2839 - acc: 0.5425 - val_loss: 18.1050 - val_acc: 0.5439\n",
      "Epoch 13/21\n",
      "15924/15924 [==============================] - 68s 4ms/step - loss: 18.2612 - acc: 0.5425 - val_loss: 18.3330 - val_acc: 0.5439\n",
      "Epoch 14/21\n",
      "15924/15924 [==============================] - 70s 4ms/step - loss: 18.2178 - acc: 0.5425 - val_loss: 18.1722 - val_acc: 0.5439\n",
      "Epoch 15/21\n",
      "15924/15924 [==============================] - 66s 4ms/step - loss: 18.1733 - acc: 0.5425 - val_loss: 18.1509 - val_acc: 0.5439\n"
     ]
    },
    {
     "name": "stdout",
     "output_type": "stream",
     "text": [
      "Epoch 16/21\n",
      "15924/15924 [==============================] - 61s 4ms/step - loss: 18.1734 - acc: 0.5425 - val_loss: 18.2603 - val_acc: 0.5439\n",
      "Epoch 17/21\n",
      "15924/15924 [==============================] - 61s 4ms/step - loss: 18.1859 - acc: 0.5425 - val_loss: 18.3350 - val_acc: 0.5439\n",
      "Epoch 18/21\n",
      "15924/15924 [==============================] - 61s 4ms/step - loss: 18.1437 - acc: 0.5425 - val_loss: 18.1400 - val_acc: 0.5439\n",
      "Epoch 19/21\n",
      "15924/15924 [==============================] - 64s 4ms/step - loss: 18.1578 - acc: 0.5425 - val_loss: 18.4712 - val_acc: 0.5439\n",
      "Epoch 20/21\n",
      "15924/15924 [==============================] - 69s 4ms/step - loss: 18.1338 - acc: 0.5425 - val_loss: 18.0164 - val_acc: 0.5439\n",
      "Epoch 21/21\n",
      "15924/15924 [==============================] - 71s 4ms/step - loss: 18.1060 - acc: 0.5425 - val_loss: 18.1152 - val_acc: 0.5439\n",
      "Model built successfully.\n",
      "\n"
     ]
    }
   ],
   "source": [
    "# Value of lambda can be calculated using cross-validation\n",
    "list_of_regs = [keras.regularizers.l2(), keras.regularizers.l1(), keras.regularizers.l1_l2(l1=0.1, l2=0.8)] \n",
    "reg_names = ['Ridge.L2', 'Lasso.L1', 'Elastic.Net.L1.L2']\n",
    "regularization(list_of_regs, reg_names)"
   ]
  },
  {
   "cell_type": "markdown",
   "metadata": {},
   "source": [
    "#### Open tensorboard in `regularization` directory"
   ]
  }
 ],
 "metadata": {
  "kernelspec": {
   "display_name": "Python 3",
   "language": "python",
   "name": "python3"
  },
  "language_info": {
   "codemirror_mode": {
    "name": "ipython",
    "version": 3
   },
   "file_extension": ".py",
   "mimetype": "text/x-python",
   "name": "python",
   "nbconvert_exporter": "python",
   "pygments_lexer": "ipython3",
   "version": "3.6.1"
  }
 },
 "nbformat": 4,
 "nbformat_minor": 2
}
